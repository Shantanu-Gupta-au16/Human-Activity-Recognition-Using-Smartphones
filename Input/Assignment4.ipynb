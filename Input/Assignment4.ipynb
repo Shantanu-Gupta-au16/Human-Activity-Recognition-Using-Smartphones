{
 "cells": [
  {
   "cell_type": "markdown",
   "metadata": {},
   "source": [
    "# <span style=\"color:#0b486b\">SIT 720 - Machine Learning</span>\n",
    "\n",
    "---\n",
    "Lecturer:   Chandan Karmakar     | karmakar@deakin.edu.au<br />\n",
    "Tutor:  \n",
    "\n",
    "School of Information Technology, <br />\n",
    "Deakin University, VIC 3125, Australia.\n",
    "\n",
    "---\n",
    "\n",
    "## Assignment 4\n",
    "\n",
    "\n",
    "In this assignment, you will use a lot of concepts learnt in this course to come up with a good solution for a given human activity recognition problem.\n",
    "This assignment has 4 parts.\n",
    "\n",
    "**Instructions**\n",
    "1. The dataset consists of training and testing data in \"train\" and \"test\" folders. Use training data: X_train.txt labels: y_train.txt and testing data: X_test.txt   labels: y_test.txt. There are other files that also come with the dataset and may be useful in understanding the dataset better.\n",
    "\n",
    "2. Please read the pdf file \"dataset-paper.pdf\" to answer Part 1.\n"
   ]
  },
  {
   "cell_type": "markdown",
   "metadata": {},
   "source": [
    "### Part 1: Understanding the data \n",
    "\n",
    "Answer the following questions briefly, after reading the paper **(3 Marks)**"
   ]
  },
  {
   "cell_type": "markdown",
   "metadata": {},
   "source": [
    "* What is the objective of the data collection process? \n",
    "\n",
    "\n",
    "\n",
    "* What human activity types does this dataset have? How many subjects/people have performed these activities? \n",
    "\n",
    "\n",
    "\n",
    "* How many instances are available in the training and test sets? How many features are used to represent each instance? Summarize the type of features extracted in 2-3 sentences. \n",
    "\n",
    "\n",
    "\n",
    "* Describe briefly what machine learning model is used in this paper for activity recognition and how is it trained. How much is the maximum accuracy achieved? \n"
   ]
  },
  {
   "cell_type": "markdown",
   "metadata": {},
   "source": [
    "### Part 2: K-Nearest Neighbour Classification\n",
    "\n",
    "Build a K-Nearest Neighbor classifier for this data. **(5 Marks)** \n",
    "\n",
    "* Let K take values from 1 to 50. For choosing the best K, use 10-fold cross-validation. Choose the best value of K based on model F1-score. \n",
    "* Show a plot of cross-validation accuracy with respect to K. \n",
    "* Using the best K value, evaluate the model performance on the supplied test set. Report the confusion matrix, multi-class averaged F1-score and accuracy."
   ]
  },
  {
   "cell_type": "markdown",
   "metadata": {},
   "source": [
    "### Part 3: Multiclass Logistic Regression with Elastic Net\n",
    "\n",
    "Build an elastic-net regularized logistic regression classifier for this data. **(5 Marks)**\n",
    "* Elastic-net regularizer takes in 2 parameters: alpha and l1-ratio. Use the following values for alpha: 1e-4,3e-4,1e-3,3e-3, 1e-2,3e-2. Use the following values for l1-ratio: 0,0.15,0.5,0.7,1. \n",
    "\n",
    "* Choose the best values of alpha and l1-ratio using 10-fold cross-validation, based on model F1-score.\n",
    "\n",
    "* Draw a surface plot of F1-score with respect to alpha and l1-ratio values.\n",
    "\n",
    "* Use the best value of alpha and l1-ratio to re-train the model on the training set and use it to predict the labels of the test set. Report the confusion matrix, multi-class averaged F1-score and accuracy."
   ]
  },
  {
   "cell_type": "markdown",
   "metadata": {},
   "source": [
    "### Part 4: Support Vector Machine (RBF Kernel)\n",
    "\n",
    "Build a SVM (with RBF Kernel) classifier for this data. **(6 Marks)**\n",
    "* SVM with RBF takes 2 parameters: gamma (length scale of the RBF kernel)  and C (the cost parameter). Use the following values for gamma: 1e-3, 1e-4. Use the following values for C: 1, 10, 100, 1000.\n",
    "\n",
    "* Choose the best values of gamma and C using 10-fold cross-validation, based on model F1-score.\n",
    "\n",
    "* Draw a surface plot of F1-score with respect to gamma and C.\n",
    "\n",
    "* Use the best value of gamma and C to re-train the model on the training set and use it to predict the labels of the test set. Report the confusion matrix, multi-class averaged F1-score and accuracy."
   ]
  },
  {
   "cell_type": "markdown",
   "metadata": {},
   "source": [
    "### Part 5: Random Forest\n",
    "\n",
    "Build a Random forest classifier for this data. **(6 Marks)**\n",
    "* Random forest uses two parameters: the tree-depth for each decision tree and the number of trees. Use the following values for the tree-depth: 300,500,600. Use the following values for the number of trees: 200,500,700.\n",
    "\n",
    "* Choose the best values of tree-depth and number of trees using 10-fold cross-validation, based on model F1-score.\n",
    "\n",
    "* Draw a surface plot of F1-score with respect to tree-depth and number of trees.\n",
    "\n",
    "* Use the best value of tree-depth and number of trees to re-train the model on the training set and use it to predict the labels of the test set. Report the confusion matrix, multi-class averaged F1-score and accuracy.\n"
   ]
  },
  {
   "cell_type": "markdown",
   "metadata": {},
   "source": [
    "### Part 6: Discussion\n",
    "\n",
    "Write a brief discussion about which classification method achieved the best performance. Your thoughts on the reason behind this. What method performed the worst? Could you do better or worse than the results in the dataset paper? Do you have any suggestions to further improve model performances? **(5 Marks)**"
   ]
  },
  {
   "cell_type": "code",
   "execution_count": null,
   "metadata": {},
   "outputs": [],
   "source": []
  }
 ],
 "metadata": {
  "kernelspec": {
   "display_name": "Python 3",
   "language": "python",
   "name": "python3"
  },
  "language_info": {
   "codemirror_mode": {
    "name": "ipython",
    "version": 3
   },
   "file_extension": ".py",
   "mimetype": "text/x-python",
   "name": "python",
   "nbconvert_exporter": "python",
   "pygments_lexer": "ipython3",
   "version": "3.6.4"
  }
 },
 "nbformat": 4,
 "nbformat_minor": 1
}
