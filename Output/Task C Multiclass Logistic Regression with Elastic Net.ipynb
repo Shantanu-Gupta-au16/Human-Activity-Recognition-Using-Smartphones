{
 "cells": [
  {
   "cell_type": "code",
   "execution_count": 5,
   "metadata": {},
   "outputs": [],
   "source": [
    "#Task C:\n",
    "#Multiclass Logistic Regression with Elastic Net\n",
    "#Importing the libraries\n",
    "import numpy as np\n",
    "import pandas as pd\n",
    "import matplotlib.pyplot as plt"
   ]
  },
  {
   "cell_type": "code",
   "execution_count": 6,
   "metadata": {},
   "outputs": [],
   "source": [
    "#Importing the dataset\n",
    "X_train=pd.read_table('X_train.txt',delim_whitespace=True,header=None)\n",
    "X_test=pd.read_table('X_test.txt',delim_whitespace=True,header=None)\n",
    "y_train=pd.read_table('y_train.txt',delim_whitespace=True,header=None)\n",
    "y_test=pd.read_table('y_test.txt',delim_whitespace=True,header=None)"
   ]
  },
  {
   "cell_type": "code",
   "execution_count": 7,
   "metadata": {},
   "outputs": [],
   "source": [
    "#Feature Scaling\n",
    "from sklearn.preprocessing import StandardScaler\n",
    "sc=StandardScaler()\n",
    "X_train=sc.fit_transform(X_train)\n",
    "X_test=sc.transform(X_test)"
   ]
  },
  {
   "cell_type": "code",
   "execution_count": 9,
   "metadata": {},
   "outputs": [
    {
     "name": "stderr",
     "output_type": "stream",
     "text": [
      "/srv/conda/lib/python3.6/site-packages/sklearn/utils/validation.py:578: DataConversionWarning: A column-vector y was passed when a 1d array was expected. Please change the shape of y to (n_samples, ), for example using ravel().\n",
      "  y = column_or_1d(y, warn=True)\n"
     ]
    },
    {
     "data": {
      "text/plain": [
       "SGDClassifier(alpha=0.1, average=False, class_weight=None, epsilon=0.1,\n",
       "       eta0=0.0, fit_intercept=True, l1_ratio=0.7, learning_rate='optimal',\n",
       "       loss='log', max_iter=1000, n_iter=None, n_jobs=1,\n",
       "       penalty='elasticnet', power_t=0.5, random_state=None, shuffle=True,\n",
       "       tol=None, verbose=0, warm_start=False)"
      ]
     },
     "execution_count": 9,
     "metadata": {},
     "output_type": "execute_result"
    }
   ],
   "source": [
    "#Fitting Elastic net classification model\n",
    "from sklearn.linear_model import SGDClassifier \n",
    "alpha_val = 0.1\n",
    "classifier = SGDClassifier(loss='log', penalty='elasticnet', alpha=alpha_val, l1_ratio=0.7, max_iter=1000) \n",
    "classifier.fit(X_train,y_train)"
   ]
  },
  {
   "cell_type": "code",
   "execution_count": 12,
   "metadata": {},
   "outputs": [],
   "source": [
    "#Predicting the test set results\n",
    "y_pred = classifier.predict(X_test)"
   ]
  },
  {
   "cell_type": "code",
   "execution_count": 13,
   "metadata": {},
   "outputs": [
    {
     "name": "stdout",
     "output_type": "stream",
     "text": [
      "[[492   2   2   0   0   0]\n",
      " [ 35 431   4   0   1   0]\n",
      " [145  52 222   0   1   0]\n",
      " [  0   7   0 272 212   0]\n",
      " [  0   6   0  10 516   0]\n",
      " [  0   0   0   0   0 537]]\n",
      "\n",
      "\n",
      "             precision    recall  f1-score   support\n",
      "\n",
      "          1       0.73      0.99      0.84       496\n",
      "          2       0.87      0.92      0.89       471\n",
      "          3       0.97      0.53      0.69       420\n",
      "          4       0.96      0.55      0.70       491\n",
      "          5       0.71      0.97      0.82       532\n",
      "          6       1.00      1.00      1.00       537\n",
      "\n",
      "avg / total       0.87      0.84      0.83      2947\n",
      "\n"
     ]
    }
   ],
   "source": [
    "#Making the confusion matrix,classification report\n",
    "from sklearn.metrics import confusion_matrix\n",
    "from sklearn.metrics import classification_report\n",
    "cm=confusion_matrix(y_test,y_pred)\n",
    "print(cm)\n",
    "print('\\n')\n",
    "cr=classification_report(y_test,y_pred)\n",
    "print(cr)"
   ]
  },
  {
   "cell_type": "code",
   "execution_count": null,
   "metadata": {},
   "outputs": [
    {
     "name": "stderr",
     "output_type": "stream",
     "text": [
      "/srv/conda/lib/python3.6/site-packages/sklearn/utils/validation.py:578: DataConversionWarning: A column-vector y was passed when a 1d array was expected. Please change the shape of y to (n_samples, ), for example using ravel().\n",
      "  y = column_or_1d(y, warn=True)\n",
      "/srv/conda/lib/python3.6/site-packages/sklearn/utils/validation.py:578: DataConversionWarning: A column-vector y was passed when a 1d array was expected. Please change the shape of y to (n_samples, ), for example using ravel().\n",
      "  y = column_or_1d(y, warn=True)\n",
      "/srv/conda/lib/python3.6/site-packages/sklearn/utils/validation.py:578: DataConversionWarning: A column-vector y was passed when a 1d array was expected. Please change the shape of y to (n_samples, ), for example using ravel().\n",
      "  y = column_or_1d(y, warn=True)\n"
     ]
    }
   ],
   "source": [
    "#Applying k-fold cross validation\n",
    "from sklearn.model_selection import cross_val_score\n",
    "accuracies=cross_val_score(estimator=classifier,scoring='f1_micro',X=X_train,y=y_train,cv=10,n_jobs=-1,verbose=3)\n",
    "print(accuracies.mean())\n",
    "print(accuracies.std())"
   ]
  },
  {
   "cell_type": "code",
   "execution_count": null,
   "metadata": {},
   "outputs": [],
   "source": [
    "#Applying Grid Search to find the best model andthe best parameters\n",
    "from sklearn.model_selection import GridSearchCV\n",
    "parameters=[{'alpha':[1e-4,3e-4,1e-3,3e-3,1e-2,3e-2],'l1_ratio':[0,0.15,0.5,0.7,1]}]\n",
    "grid_search =GridSearchCV(estimator=classifier,param_grid=parameters,scoring='f1_micro',cv=10,n_jobs=-1,verbose=3)\n",
    "grid_search=grid_search.fit(X_train,y_train)\n",
    "best_f1score=grid_search.best_score_\n",
    "print(best_f1score)\n",
    "best_parameters =grid_search.best_params_\n",
    "print(best_parameters)"
   ]
  },
  {
   "cell_type": "code",
   "execution_count": null,
   "metadata": {},
   "outputs": [],
   "source": [
    "from sklearn.model_selection import GridSearchCV\n",
    "grid_predictions=grid_search.predict(X_test)\n",
    "print(grid_predictions)"
   ]
  },
  {
   "cell_type": "code",
   "execution_count": null,
   "metadata": {},
   "outputs": [],
   "source": [
    "#Making the confusion matrix,classification report\n",
    "from sklearn.metrics import confusion_matrix\n",
    "from sklearn.metrics import classification_report\n",
    "cm1=confusion_matrix(y_test,grid_predictions)\n",
    "print(cm1)\n",
    "print('\\n')\n",
    "cr1=classification_report(y_test,grid_predictions)\n",
    "print(cr1)"
   ]
  },
  {
   "cell_type": "code",
   "execution_count": null,
   "metadata": {},
   "outputs": [],
   "source": [
    "plt.figure(figsize=(10,6))\n",
    "alpha=[1e-4,3e-4,1e-3,3e-3,1e-2,3e-2]\n",
    "plt.plot(alpha,grid_search)\n",
    "plt.title('Alpha vs F-1 Score')\n",
    "plt.xlabel('Alpha')\n",
    "plt.ylabel('F-1 Score')\n",
    "plt.show()"
   ]
  },
  {
   "cell_type": "code",
   "execution_count": null,
   "metadata": {},
   "outputs": [],
   "source": [
    "plt.figure(figsize=(10,6))\n",
    "l1_ratio=[0,0.15,0.5,0.7,1]\n",
    "plt.plot(l1_ratio,grid_search)\n",
    "plt.title('L1_ratio vs F-1 Score')\n",
    "plt.xlabel('L1_ratio')\n",
    "plt.ylabel('F-1 Score')\n",
    "plt.show()"
   ]
  }
 ],
 "metadata": {
  "kernelspec": {
   "display_name": "Python 3",
   "language": "python",
   "name": "python3"
  },
  "language_info": {
   "codemirror_mode": {
    "name": "ipython",
    "version": 3
   },
   "file_extension": ".py",
   "mimetype": "text/x-python",
   "name": "python",
   "nbconvert_exporter": "python",
   "pygments_lexer": "ipython3",
   "version": "3.6.6"
  }
 },
 "nbformat": 4,
 "nbformat_minor": 2
}
